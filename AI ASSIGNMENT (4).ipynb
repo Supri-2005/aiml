{
 "cells": [
  {
   "cell_type": "code",
   "execution_count": 23,
   "id": "759c20f9-dcf7-4311-8589-d198c0115fb0",
   "metadata": {},
   "outputs": [
    {
     "name": "stdout",
     "output_type": "stream",
     "text": [
      "string:supriya\n",
      "integer:12\n",
      "float:3.14\n",
      "boolean value:True\n"
     ]
    }
   ],
   "source": [
    "'''Write a Python program that declares variables of different data types (e.g., string, integer, float,\n",
    "and boolean). Output the variables in a sentence format using print() and f-strings.'''\n",
    "name = \"supriya\"\n",
    "num=12\n",
    "c = 3.14\n",
    "b = True\n",
    "print(f\"string:{name}\")\n",
    "print(f\"integer:{num}\")\n",
    "print(f\"float:{c}\")\n",
    "print(f\"boolean value:{b}\")\n",
    "\n"
   ]
  },
  {
   "cell_type": "code",
   "execution_count": 42,
   "id": "9374afec-a950-43d2-b4a8-33f6ca3e6476",
   "metadata": {},
   "outputs": [
    {
     "name": "stdin",
     "output_type": "stream",
     "text": [
      "enter a number: 0\n"
     ]
    },
    {
     "name": "stdout",
     "output_type": "stream",
     "text": [
      "number is zero\n"
     ]
    }
   ],
   "source": [
    "'''Write a Python program that takes an integer input and checks whether the number is positive,\n",
    "negative, or zero using conditional statements (if-else).'''\n",
    "num=int(input(\"enter a number:\"))\n",
    "if(num>0):\n",
    "    print(\"positive number\")\n",
    "elif(num<0):\n",
    "    print(\"negative number\")\n",
    "else:\n",
    "    print(\"number is zero\")"
   ]
  },
  {
   "cell_type": "code",
   "execution_count": 1,
   "id": "7be145c1-68ee-4ea8-8fb6-2179b2b692b7",
   "metadata": {},
   "outputs": [
    {
     "name": "stdin",
     "output_type": "stream",
     "text": [
      "enter a number: 3\n"
     ]
    },
    {
     "name": "stdout",
     "output_type": "stream",
     "text": [
      "1 * 3 = 3\n",
      "2 * 3 = 6\n",
      "3 * 3 = 9\n",
      "4 * 3 = 12\n",
      "5 * 3 = 15\n",
      "6 * 3 = 18\n",
      "7 * 3 = 21\n",
      "8 * 3 = 24\n",
      "9 * 3 = 27\n",
      "10 * 3 = 30\n"
     ]
    }
   ],
   "source": [
    "'''Write a Python program that takes a number as input and prints the multiplication table\n",
    "for that number (from 1 to 10).'''\n",
    "num=int(input(\"enter a number:\"))\n",
    "for i in range(1,11):\n",
    "    print(i, \"*\", num ,\"=\" ,i*num)"
   ]
  },
  {
   "cell_type": "code",
   "execution_count": 62,
   "id": "aa79c2bd-cbcf-4660-8588-5283c7ed72b7",
   "metadata": {},
   "outputs": [
    {
     "name": "stdout",
     "output_type": "stream",
     "text": [
      "['apple', 'cherry', 'grape', 'kiwi', 'orange', 'fruits']\n"
     ]
    }
   ],
   "source": [
    "''' Create a Python list that contains the names of 5 different fruits. Perform the given operations on\n",
    "the list.'''\n",
    "fruits = ['apple', 'banana', 'cherry', 'orange', 'grape']\n",
    "fruits.append(\"kiwi\")\n",
    "fruits.remove(\"banana\")\n",
    "fruits.sort()\n",
    "fruits.append(\"fruits\")\n",
    "print(fruits)\n"
   ]
  },
  {
   "cell_type": "code",
   "execution_count": 77,
   "id": "5625931e-8ae2-450b-817a-6e6a716d4982",
   "metadata": {},
   "outputs": [
    {
     "name": "stdout",
     "output_type": "stream",
     "text": [
      "1\n",
      "4\n",
      "(1, 2)\n",
      "5\n",
      "(1, 2, 3, 4, 5, 6, 7, 8, 9, 9)\n"
     ]
    }
   ],
   "source": [
    "''' Write a Python program that creates a tuple containing 5 numbers. Perform the given operations\n",
    "on the tuple.'''\n",
    "n = (1, 2, 3, 4, 5)\n",
    "print(n[0])\n",
    "print(n[-2])\n",
    "print(n[0:2])\n",
    "print(len(n))\n",
    "n1=(6,7,8,9,9)\n",
    "print(n+n1)\n"
   ]
  },
  {
   "cell_type": "code",
   "execution_count": 95,
   "id": "022fff7a-1b44-48b7-b81f-d88e63344966",
   "metadata": {},
   "outputs": [
    {
     "name": "stdout",
     "output_type": "stream",
     "text": [
      "90\n",
      "80\n",
      "{'ram': 80, 'shurthi': 85}\n"
     ]
    }
   ],
   "source": [
    "'''Create a dictionary that stores the names of 3 students as keys and their marks in mathematics as\n",
    "values. Perform the given operations.'''\n",
    "s= {'sita': 90, 'ram': 80, 'shurthi': 85,}\n",
    "print(s[\"sita\"])\n",
    "print(s[\"ram\"])\n",
    "s.keys()\n",
    "s.values()\n",
    "del s[\"sita\"]\n",
    "print(s)"
   ]
  },
  {
   "cell_type": "code",
   "execution_count": 107,
   "id": "f653a66b-b42b-42b0-85c7-634d604a8272",
   "metadata": {},
   "outputs": [
    {
     "name": "stdout",
     "output_type": "stream",
     "text": [
      "{1, 2, 3, 4, 5, 6}\n",
      "{3, 4}\n",
      "{1, 2, 3, 4, 10}\n",
      "{3, 4, 5, 6, 11}\n"
     ]
    }
   ],
   "source": [
    "'''Create two sets of integers. Perform the given set operations.'''\n",
    "s1 = {1, 2, 3, 4}\n",
    "s2 = {3, 4, 5, 6}\n",
    "print(s1.union(s2))\n",
    "print(s1.intersection(s2))\n",
    "s1.add(10)\n",
    "print(s1)\n",
    "s2.add(11)\n",
    "print(s2)"
   ]
  },
  {
   "cell_type": "code",
   "execution_count": 109,
   "id": "12c2bcac-d003-4e67-979b-0306be94ecdc",
   "metadata": {},
   "outputs": [
    {
     "name": "stdout",
     "output_type": "stream",
     "text": [
      "9\n"
     ]
    }
   ],
   "source": [
    "'''Write a Python function called find_largest() that takes a list of numbers as input and returns the\n",
    "largest number from the list. Test the function with a sample list'''\n",
    "def find_largest(num):\n",
    "    return max(num)\n",
    "n=[1,2,5,6,7,9,8]\n",
    "print(find_largest(n))"
   ]
  },
  {
   "cell_type": "code",
   "execution_count": 115,
   "id": "f02b039a-041e-4fcc-a2ed-098c9420f7b4",
   "metadata": {},
   "outputs": [
    {
     "name": "stdout",
     "output_type": "stream",
     "text": [
      "[4, 16, 36, 64, 100, 144, 196, 256, 324, 400]\n"
     ]
    }
   ],
   "source": [
    "'''Use list comprehension to create a list of squares of all even numbers between 1 and 20.'''\n",
    "l=[x**2 for x in range(1,21)  if x%2==0]\n",
    "print(l)"
   ]
  },
  {
   "cell_type": "code",
   "execution_count": 120,
   "id": "0679a399-57a4-40f2-bd1f-218c079133f7",
   "metadata": {},
   "outputs": [
    {
     "name": "stdin",
     "output_type": "stream",
     "text": [
      "Enter first number:  2\n",
      "Enter second number:  3\n"
     ]
    },
    {
     "name": "stdout",
     "output_type": "stream",
     "text": [
      "Product: 6\n"
     ]
    }
   ],
   "source": [
    "\n",
    "''' Write a Python script that uses a lambda function to calculate the product of two numbers provided\n",
    "by the user.'''\n",
    "p = lambda a, b: a * b\n",
    "n1 = int(input(\"Enter first number: \"))\n",
    "n2 = int(input(\"Enter second number: \"))\n",
    "print(f\"Product: {p(n1, n2)}\")"
   ]
  },
  {
   "cell_type": "code",
   "execution_count": 132,
   "id": "3be58536-3cb3-46e9-ace5-186c42e4b431",
   "metadata": {},
   "outputs": [
    {
     "name": "stdout",
     "output_type": "stream",
     "text": [
      "[1 2 3 4]\n",
      "1\n",
      "(4,)\n",
      "[[1 2 3 4]\n",
      " [3 4 5 6]]\n",
      "2\n",
      "(2, 4)\n",
      "[[[1 2 3 4]\n",
      "  [1 2 3 4]]\n",
      "\n",
      " [[1 2 3 4]\n",
      "  [1 2 3 4]]]\n",
      "3\n",
      "(2, 2, 4)\n"
     ]
    }
   ],
   "source": [
    "'''Write a Python program to create a one-dimensional, two-dimensional, and three-dimensional\n",
    "NumPy array. Print the shape and dimensions of each array'''\n",
    "import numpy as np\n",
    "\n",
    "\n",
    "arr1 = np.array([1, 2, 3, 4])\n",
    "print(arr1)\n",
    "print(arr1.ndim)\n",
    "print(arr1.shape)\n",
    "arr2 = np.array([[1, 2,3,4], [3, 4,5,6]])\n",
    "print(arr2)\n",
    "print(arr2.ndim)\n",
    "print(arr2.shape)\n",
    "arr3 = np.array([[[1,2,3,4], [1,2,3,4]], [[1,2,3,4], [1,2,3,4]]])\n",
    "print(arr3)\n",
    "print(arr3.ndim)\n",
    "print(arr3.shape)\n"
   ]
  },
  {
   "cell_type": "code",
   "execution_count": 160,
   "id": "13ba8338-6616-4a4b-8c10-47a77a2732f6",
   "metadata": {},
   "outputs": [
    {
     "name": "stdout",
     "output_type": "stream",
     "text": [
      "[[ 1  2  3  4  5]\n",
      " [ 6  7  8  9 10]\n",
      " [11 12 13 14 15]\n",
      " [16 17 18 19 20]\n",
      " [21 22 23 24 25]]\n",
      "[1 2 3 4 5]\n",
      "[[ 1  2  3  4  5]\n",
      " [ 6  7  8  9 10]]\n"
     ]
    }
   ],
   "source": [
    "'''Write a Python program to create a 5x5 NumPy array of random integers and Perform array\n",
    "indexing as given'''\n",
    "import numpy as np\n",
    "\n",
    "b=np.arange(1,26).reshape(5,5)\n",
    "\n",
    "print(b)\n",
    "print(b[0])\n",
    "\n",
    "print(b[0:2])\n"
   ]
  },
  {
   "cell_type": "code",
   "execution_count": 162,
   "id": "5c6e4a06-79ca-4117-930c-2e7f5ea6b8e5",
   "metadata": {},
   "outputs": [
    {
     "name": "stdout",
     "output_type": "stream",
     "text": [
      "[[ 1  2  3  4]\n",
      " [ 5  6  7  8]\n",
      " [ 9 10 11 12]\n",
      " [13 14 15 16]]\n",
      "[ 9 10 11 12]\n",
      "[[1 2 3 4]\n",
      " [5 6 7 8]]\n"
     ]
    }
   ],
   "source": [
    "'''create a NumPy array of shape (4, 4) containing numbers from 1 to 16. Use slicing to extract for\n",
    "the given conditions'''\n",
    "import numpy as np\n",
    "a=np.arange(1,17).reshape(4,4)\n",
    "print(a)\n",
    "print(a[2])\n",
    "print(a[0:2])\n"
   ]
  },
  {
   "cell_type": "code",
   "execution_count": 166,
   "id": "73f93c7d-0960-4cb1-a7d2-3da923c00b09",
   "metadata": {},
   "outputs": [
    {
     "name": "stdout",
     "output_type": "stream",
     "text": [
      "[ 1  2  3  4  5  6  7  8  9 10 11 12 13 14 15 16]\n"
     ]
    }
   ],
   "source": [
    "''' create a NumPy array of shape (4, 4) containing numbers from 1 to 16. Use slicing to extract for\n",
    "the given condition'''\n",
    "import numpy as np\n",
    "a=np.arange(1,17).reshape(4,4).flatten()\n",
    "print(a)\n"
   ]
  },
  {
   "cell_type": "code",
   "execution_count": 171,
   "id": "7cb33869-de5b-420f-a241-c7f5ab4d653d",
   "metadata": {},
   "outputs": [
    {
     "name": "stdout",
     "output_type": "stream",
     "text": [
      "[ 0  1  2  3  4  5  6  7  8  9 10 11]\n"
     ]
    }
   ],
   "source": [
    "'''Write a Python program that creates a 2D array of shape (6, 2) using np.arange() and then reshapes\n",
    "it into a 3D array of shape (2, 3, 2). Flatten the reshaped array and print the result'''\n",
    "arr = np.arange(12).reshape(6, 2)\n",
    "reshaped = arr.reshape(2, 3, 2)\n",
    "a = reshaped.flatten()\n",
    "print(a)"
   ]
  },
  {
   "cell_type": "code",
   "execution_count": null,
   "id": "05b4cdc6-6e7d-4f5f-b20c-5f23d949166f",
   "metadata": {},
   "outputs": [],
   "source": [
    "A = np.array([1, 2, 3])\n",
    "B = np.array([4, 5, 6])\n",
    "\n",
    "print(A + B)   \n",
    "print(A - B)  \n",
    "print(A * B)  \n",
    "print(A / B)  "
   ]
  },
  {
   "cell_type": "code",
   "execution_count": 173,
   "id": "05f0aea3-25e1-4a56-90da-8df9be9f301f",
   "metadata": {},
   "outputs": [
    {
     "name": "stdout",
     "output_type": "stream",
     "text": [
      "[[[ 2  4  6]\n",
      "  [ 5  7  9]]\n",
      "\n",
      " [[ 7  9 11]\n",
      "  [ 7  9 11]]\n",
      "\n",
      " [[ 2  4  9]\n",
      "  [ 6  8 10]]]\n"
     ]
    }
   ],
   "source": [
    "#Write a Python program to demonstrate broadcasting. Create an array of shape (3, 3) and add a one-\n",
    "#dimensional array of shape (1, 3) to it using broadcasting\n",
    "a=np.array([[[1,2,3],[4,5,6]],[[6,7,8],[6,7,8]],[[1,2,6],[5,6,7]]])\n",
    "a1=np.array([1,2,3])\n",
    "print(a+a1)"
   ]
  },
  {
   "cell_type": "code",
   "execution_count": 181,
   "id": "fde0f90c-6be9-45dc-83ba-6b2cc6959ad5",
   "metadata": {},
   "outputs": [
    {
     "name": "stdout",
     "output_type": "stream",
     "text": [
      "[ 6  8 10 12]\n",
      "[-4 -4 -4 -4]\n",
      "[4 4 4 4]\n",
      "[ 5 12 21 32]\n",
      "[0.2        0.33333333 0.42857143 0.5       ]\n",
      "[5.         3.         2.33333333 2.        ]\n"
     ]
    }
   ],
   "source": [
    "'''Create two NumPy arrays of the same shape, A and B. Perform the following arithmetic operations:\n",
    "Element-wise addition.\n",
    "Element-wise subtraction.\n",
    "Element-wise multiplication.\n",
    "Element-wise division.'''\n",
    "a=np.array([1,2,3,4])\n",
    "b=np.array([5,6,7,8])\n",
    "print(a+b)\n",
    "print(a-b)\n",
    "print(b-a)\n",
    "print(a*b)\n",
    "print(a/b)\n",
    "print(b/a)"
   ]
  },
  {
   "cell_type": "code",
   "execution_count": 3,
   "id": "10de71fc-7df7-437e-a7cc-b8ae8e97c698",
   "metadata": {},
   "outputs": [
    {
     "name": "stdout",
     "output_type": "stream",
     "text": [
      "   Name  Math  Science  English  Total Grade\n",
      "0  sita    80       85       88    253     A\n",
      "1  siya    70       75       78    223     B\n",
      "2   Cat    90       95       92    277     A\n"
     ]
    }
   ],
   "source": [
    "\n",
    "'''Create a Pandas DataFrame with the given Name and marks of 3 courses:\n",
    "Add a new column named 'Total' that represents the sum of all the courses. Add 'Grade' based\n",
    "on the values of the 'Total'. Print the updated DataFrame with the new 'Total' and 'Grade'\n",
    "column.'''\n",
    "import pandas as pd\n",
    "\n",
    "\n",
    "data = {'Name': ['sita', 'siya', 'Cat'], 'Math': [80, 70, 90], 'Science': [85, 75, 95], 'English': [88, 78, 92]}\n",
    "df = pd.DataFrame(data)\n",
    "\n",
    "df['Total'] = df['Math'] + df['Science'] + df['English']\n",
    "df['Grade'] = df['Total'].apply(lambda x: 'A' if x >= 250 else 'B')\n",
    "\n",
    "print(df)\n"
   ]
  },
  {
   "cell_type": "code",
   "execution_count": 3,
   "id": "27bb5766-d2bf-4baf-a22f-dccd25824946",
   "metadata": {},
   "outputs": [
    {
     "name": "stdout",
     "output_type": "stream",
     "text": [
      "Mean: 22.3\n",
      "Median: 21.0\n",
      "Mode: 15\n",
      "Variance: 40.67777777777778\n",
      "Standard Deviation: 6.3779132776934\n"
     ]
    }
   ],
   "source": [
    "'''Calculate and interpret mean, median, mode, variance and standard deviation for a given dataset.\n",
    "Data =[ 15,21,29,21,15,24,32,21,15,30]'''\n",
    "import pandas as pd\n",
    "data = [15, 21, 29, 21, 15, 24, 32, 21, 15, 30]\n",
    "data_series = pd.Series(data)\n",
    "mean_value = data_series.mean()\n",
    "print(\"Mean:\", mean_value)\n",
    "median_value = data_series.median()\n",
    "print(\"Median:\", median_value)\n",
    "mode_value = data_series.mode()[0]  \n",
    "print(\"Mode:\", mode_value)\n",
    "variance_value = data_series.var()\n",
    "print(\"Variance:\", variance_value)\n",
    "std_deviation_value = data_series.std()\n",
    "print(\"Standard Deviation:\", std_deviation_value)\n"
   ]
  },
  {
   "cell_type": "code",
   "execution_count": null,
   "id": "6619e6d2-38be-4860-bc90-c283023c4d86",
   "metadata": {},
   "outputs": [],
   "source": []
  },
  {
   "cell_type": "code",
   "execution_count": null,
   "id": "cf5faf90-5ceb-4cfa-9bb6-57ada87286e7",
   "metadata": {},
   "outputs": [],
   "source": []
  },
  {
   "cell_type": "code",
   "execution_count": null,
   "id": "efb51ca5-45d9-4f01-8f30-8157df92d37c",
   "metadata": {},
   "outputs": [],
   "source": []
  },
  {
   "cell_type": "code",
   "execution_count": null,
   "id": "47534692-de2d-4e6a-8df5-98c7d4f61144",
   "metadata": {},
   "outputs": [],
   "source": []
  },
  {
   "cell_type": "code",
   "execution_count": null,
   "id": "125c4a85-c945-4bd7-85d9-01040792dcec",
   "metadata": {},
   "outputs": [],
   "source": []
  },
  {
   "cell_type": "code",
   "execution_count": null,
   "id": "e26c333d-5bfe-44dc-9a52-b85c89bf2802",
   "metadata": {},
   "outputs": [],
   "source": []
  },
  {
   "cell_type": "code",
   "execution_count": null,
   "id": "ff8953bd-002b-4fb5-87b3-4166370e2f8f",
   "metadata": {},
   "outputs": [],
   "source": []
  },
  {
   "cell_type": "code",
   "execution_count": null,
   "id": "99cd90d1-5d16-4a9d-8fa7-fb430382269e",
   "metadata": {},
   "outputs": [],
   "source": []
  }
 ],
 "metadata": {
  "kernelspec": {
   "display_name": "Python 3 (ipykernel)",
   "language": "python",
   "name": "python3"
  },
  "language_info": {
   "codemirror_mode": {
    "name": "ipython",
    "version": 3
   },
   "file_extension": ".py",
   "mimetype": "text/x-python",
   "name": "python",
   "nbconvert_exporter": "python",
   "pygments_lexer": "ipython3",
   "version": "3.12.4"
  }
 },
 "nbformat": 4,
 "nbformat_minor": 5
}
