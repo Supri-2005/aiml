{
 "cells": [
  {
   "cell_type": "code",
   "execution_count": null,
   "id": "a59a6e26-4c03-4126-81b4-2d5fe1ba75ae",
   "metadata": {},
   "outputs": [],
   "source": [
    "import nltk\n",
    "from nltk.chat.util import Chat, reflections"
   ]
  },
  {
   "cell_type": "code",
   "execution_count": null,
   "id": "1474eaad-af94-4838-92d3-f0f97f318726",
   "metadata": {},
   "outputs": [],
   "source": [
    "pairs = [\n",
    "    (r'hi|hello|hey', ['Hello!', 'Hey there!']),\n",
    "    (r'how are you?', ['I am doing great, thank you!', 'I am good, how about you?']),\n",
    "    (r'bye|exit', ['Goodbye!', 'See you later!']),\n",
    "    (r'what is your name?', ['I am a chatbot created using Python.']),\n",
    "    (r'how can I help you?', ['You can talk to me and I will try to help you.']),\n",
    "    (r'(.*)', ['Sorry, I didn’t understand that. Can you say something else?']),\n",
    "]\n"
   ]
  },
  {
   "cell_type": "code",
   "execution_count": null,
   "id": "e8ce2c61-6074-44cd-ae64-9ee2a3a473f1",
   "metadata": {},
   "outputs": [],
   "source": [
    "chatbot = Chat(pairs, reflections)\n"
   ]
  },
  {
   "cell_type": "code",
   "execution_count": null,
   "id": "6480eca5-59bc-49da-a756-debe7f6eb8df",
   "metadata": {},
   "outputs": [],
   "source": [
    "# A simple chatbot function to respond to user input\n",
    "def chatbot_respond(user_input):\n",
    "    responses = {\n",
    "        \"hello\": \"Hi there! How can I assist you today?\",\n",
    "        \"how are you\": \"I'm just a chatbot, but I'm doing great! How about you?\",\n",
    "        \"what's your name\": \"I am your friendly chatbot.\",\n",
    "        \"bye\": \"Goodbye! Have a great day!\",\n",
    "        \"exit\": \"Goodbye! Have a nice day!\",\n",
    "    }\n",
    "    \n",
    "    # Convert user input to lowercase and strip extra spaces\n",
    "    user_input = user_input.lower().strip()\n",
    "    \n",
    "    # Check if the input has a response\n",
    "    if user_input in responses:\n",
    "        return responses[user_input]\n",
    "    else:\n",
    "        return \"I'm sorry, I didn't understand that. Can you ask something else?\"\n",
    "\n",
    "# Function to start the chat\n",
    "def start_chat():\n",
    "    print(\"Hi! I'm a chatbot. Type 'exit' or 'bye' to end the chat.\")  # Greeting message\n",
    "    while True:\n",
    "        user_input = input(\"You: \")\n",
    "        if user_input.lower() in ['exit', 'bye']:\n",
    "            print(\"Chatbot: Goodbye!\")\n",
    "            break\n",
    "        response = chatbot_respond(user_input)\n",
    "        print(\"Chatbot:\", response)\n",
    "\n",
    "# Start the chat\n",
    "start_chat()\n"
   ]
  },
  {
   "cell_type": "code",
   "execution_count": null,
   "id": "792760c3-7cfc-4915-a653-523fee195d17",
   "metadata": {},
   "outputs": [],
   "source": []
  }
 ],
 "metadata": {
  "kernelspec": {
   "display_name": "Python 3 (ipykernel)",
   "language": "python",
   "name": "python3"
  },
  "language_info": {
   "codemirror_mode": {
    "name": "ipython",
    "version": 3
   },
   "file_extension": ".py",
   "mimetype": "text/x-python",
   "name": "python",
   "nbconvert_exporter": "python",
   "pygments_lexer": "ipython3",
   "version": "3.12.7"
  }
 },
 "nbformat": 4,
 "nbformat_minor": 5
}
